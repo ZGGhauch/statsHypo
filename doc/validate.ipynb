{
 "cells": [
  {
   "attachments": {},
   "cell_type": "markdown",
   "metadata": {},
   "source": [
    "# Statistical Hypothesis Testing with *statsHypo* Package\n",
    "\n",
    "Author: Ziad Ghauch"
   ]
  },
  {
   "cell_type": "code",
   "execution_count": 1,
   "metadata": {},
   "outputs": [],
   "source": [
    "import numpy as np\n",
    "\n",
    "import sys\n",
    "sys.path.append('../statsHypo/')\n",
    "from sample import *\n",
    "from correlation import *\n",
    "from factorial_designs import *\n",
    "from other import *\n",
    "from single_sample import *\n",
    "from time_series import *\n",
    "from two_dependent_samples import *\n",
    "from two_independent_samples import *\n",
    "from twoormore_dependent_samples import *\n",
    "from twoormore_indenpendent_samples import *"
   ]
  },
  {
   "cell_type": "code",
   "execution_count": 2,
   "metadata": {},
   "outputs": [],
   "source": [
    "np.random.seed(999)\n",
    "\n",
    "X = np.random.normal(20.,1.,100)\n",
    "Y = np.random.normal(10.,1.,100)\n",
    "Z = np.random.normal(50.,1.,100)\n",
    "\n",
    "alpha_val = 0.05"
   ]
  },
  {
   "attachments": {},
   "cell_type": "markdown",
   "metadata": {},
   "source": [
    "### Single-Sample Z-test"
   ]
  },
  {
   "cell_type": "code",
   "execution_count": 3,
   "metadata": {},
   "outputs": [
    {
     "name": "stdout",
     "output_type": "stream",
     "text": [
      " Test 1: Single-Sample Z-test \n",
      "        \n",
      "        Parametric test to assess the likelihood that a sample is derived from a population \n",
      "        with known parameters (i.e. mean, sigma); Population assumed Gaussian. Perform Z-test\n",
      "        only when population paramerers (mean and sigma) are known. The test statistic is \n",
      "        based on the Gaussian distribution.\n",
      "        \n",
      "        H0 (null hypothesis): \n",
      "        \t-> mean of the sample equals the population mean \n",
      "        H1 (alternate hypothesis): \n",
      "        \t-> mean of the sample does not equal (i.e. nondirectional, two-tailed\n",
      "            \ttest) the population mean, or \n",
      "        \t-> mean of the sample is less than the population mean (directional, \n",
      "            \tone-tailed left test), or \n",
      "        \t-> mean of the sample is greater than the population mean (directional,\n",
      "            \tone-tailed right test)\n",
      "        \n",
      "        Parameters\n",
      "        ----------\n",
      "        P : sample of size (N,1) from the population (mu, sigma)\n",
      "        \n",
      "        Return\n",
      "        ------\n",
      "        zstat : single-sample Z-test statistic\n",
      "        \n",
      "~Single-Sample Z-test~\n",
      "\t|------------------------------|\n",
      "\t  DESCRIPTIVE STATISTICS\n",
      "\t|------------------------------|\n",
      "\t  Size ..........: 100\n",
      "\t  Min ...........: 17.909\n",
      "\t  25%  ..........: 19.545\n",
      "\t  50%  ..........: 20.14\n",
      "\t  75%  ..........: 20.918\n",
      "\t  Max ...........: 22.491\n",
      "\t  Mean ..........: 20.19\n",
      "\t  Std Dev .......: 0.976\n",
      "\t  Skewness ......: -0.012\n",
      "\t  Kurtosis ......: -0.466\n",
      "\t|------------------------------|\n",
      "stat=1.896\n"
     ]
    }
   ],
   "source": [
    "t1 = InferenceSingleSample(X, alpha_val, [20.,1.])\n",
    "print (t1.z_test.__doc__)\n",
    "stat=t1.z_test()\n"
   ]
  },
  {
   "attachments": {},
   "cell_type": "markdown",
   "metadata": {},
   "source": [
    "### Single-Sample T-test"
   ]
  },
  {
   "cell_type": "code",
   "execution_count": 4,
   "metadata": {},
   "outputs": [
    {
     "name": "stdout",
     "output_type": "stream",
     "text": [
      " Test 2: The Single-Sample T-test  \n",
      "\n",
      "        Parametric test to assess the likelihood that a sample is derived from a population \n",
      "        with known parameters mean but unknown sigma; Population assumed Gaussian. Perform T-test\n",
      "        only when population std dev paramerer (i.e. sigma) is unknown or when sample size N is\n",
      "        small. The test statistic is based on the t-distribution. \n",
      "        \n",
      "        H0 (null hypothesis): \n",
      "        \t-> mean of the sample equals the population mean \n",
      "        H1 (alternate hypothesis): \n",
      "        \t-> mean of the sample does not equal (i.e. nondirectional, two-tailed\n",
      "            \ttest) the population mean, or \n",
      "        \t-> mean of the sample is less than the population mean (directional, \n",
      "            \tone-tailed left test), or \n",
      "        \t-> mean of the sample is greater than the population mean (directional,\n",
      "            \tone-tailed right test)\n",
      "        \n",
      "        Parameters\n",
      "        ----------\n",
      "        P : sample of size (N,1) from the population (mean mu)\n",
      "        \n",
      "        Return\n",
      "        ------\n",
      "        tstat : single-sample T-test statistic        \n",
      "        \n",
      "~Single-Sample T-test~\n",
      "\t|------------------------------|\n",
      "\t  DESCRIPTIVE STATISTICS\n",
      "\t|------------------------------|\n",
      "\t  Size ..........: 100\n",
      "\t  Min ...........: 17.909\n",
      "\t  25%  ..........: 19.545\n",
      "\t  50%  ..........: 20.14\n",
      "\t  75%  ..........: 20.918\n",
      "\t  Max ...........: 22.491\n",
      "\t  Mean ..........: 20.19\n",
      "\t  Std Dev .......: 0.976\n",
      "\t  Skewness ......: -0.012\n",
      "\t  Kurtosis ......: -0.466\n",
      "\t|------------------------------|\n",
      "stat=1.943\n"
     ]
    }
   ],
   "source": [
    "t11 = InferenceSingleSample(X, alpha_val, [20.])\n",
    "print (t11.t_test.__doc__)\n",
    "stat=t11.t_test()"
   ]
  },
  {
   "attachments": {},
   "cell_type": "markdown",
   "metadata": {},
   "source": [
    "### Single-Sample Chi-Square Test"
   ]
  },
  {
   "cell_type": "code",
   "execution_count": 5,
   "metadata": {},
   "outputs": [
    {
     "name": "stdout",
     "output_type": "stream",
     "text": [
      " Test 3: Single-Sample Chi-Square Test for a Population Variance \n",
      "\n",
      "        Statistical inference single-sample test to assess the likelihood that \n",
      "        a sample with variance s^2 is derived from a population \n",
      "        with variance sigma^2. The test statistic is based on the chi-square \n",
      "        distribution, with the assumptions that the population from which the \n",
      "        sample is drawn is normal. \n",
      "        \n",
      "        H0 (null hypothesis): \n",
      "        \t-> variance of the sample equals the population variance \n",
      "        H1 (alternate hypothesis): \n",
      "        \t-> variance of the sample does not equal (i.e. nondirectional, two-tailed\n",
      "            \ttest) the population variance, or \n",
      "        \t-> variance of the sample is less than the population variance (directional, \n",
      "            \tone-tailed left test), or \n",
      "        \t-> variance of the sample is greater than the population variance (directional,\n",
      "            \tone-tailed right test)\n",
      "        \n",
      "        Parameters\n",
      "        ----------\n",
      "        P : sample of size (N,1) from the population (variance sigma^2)\n",
      "        \n",
      "        Return\n",
      "        ------\n",
      "        chisquarestat : single-sample chi-square test statistic          \n",
      "        \n",
      "~Single-Sample Chi-Square Test~\n",
      "\t|------------------------------|\n",
      "\t  DESCRIPTIVE STATISTICS\n",
      "\t|------------------------------|\n",
      "\t  Size ..........: 100\n",
      "\t  Min ...........: 17.909\n",
      "\t  25%  ..........: 19.545\n",
      "\t  50%  ..........: 20.14\n",
      "\t  75%  ..........: 20.918\n",
      "\t  Max ...........: 22.491\n",
      "\t  Mean ..........: 20.19\n",
      "\t  Std Dev .......: 0.976\n",
      "\t  Skewness ......: -0.012\n",
      "\t  Kurtosis ......: -0.466\n",
      "\t|------------------------------|\n",
      "stat=94.244\n",
      "None\n"
     ]
    }
   ],
   "source": [
    "t = InferenceSingleSample(X, alpha_val, [1.])\n",
    "print (t.chi_square_test_population_variance.__doc__)\n",
    "print (t.chi_square_test_population_variance())"
   ]
  },
  {
   "attachments": {},
   "cell_type": "markdown",
   "metadata": {},
   "source": [
    "### Single-Sample Test for Evaluating Population Skewness"
   ]
  },
  {
   "cell_type": "code",
   "execution_count": 6,
   "metadata": {},
   "outputs": [
    {
     "name": "stdout",
     "output_type": "stream",
     "text": [
      "~Single-Sample Test for Evaluating Population Skewness~\n",
      "\t|------------------------------|\n",
      "\t  DESCRIPTIVE STATISTICS\n",
      "\t|------------------------------|\n",
      "\t  Size ..........: 100\n",
      "\t  Min ...........: 17.909\n",
      "\t  25%  ..........: 19.545\n",
      "\t  50%  ..........: 20.14\n",
      "\t  75%  ..........: 20.918\n",
      "\t  Max ...........: 22.491\n",
      "\t  Mean ..........: 20.19\n",
      "\t  Std Dev .......: 0.976\n",
      "\t  Skewness ......: -0.012\n",
      "\t  Kurtosis ......: -0.466\n",
      "\t|------------------------------|\n",
      "stat=-0.052\n",
      "None\n"
     ]
    }
   ],
   "source": [
    "t = InferenceSingleSample(X, alpha_val)\n",
    "print (t.test_population_skewness())"
   ]
  },
  {
   "attachments": {},
   "cell_type": "markdown",
   "metadata": {},
   "source": [
    "## Single-Sample Test for Evaluating Population Kurtosis"
   ]
  },
  {
   "cell_type": "code",
   "execution_count": 7,
   "metadata": {},
   "outputs": [
    {
     "name": "stdout",
     "output_type": "stream",
     "text": [
      "~Single-Sample Test for Evaluating Population Kurtosis~\n",
      "\t|------------------------------|\n",
      "\t  DESCRIPTIVE STATISTICS\n",
      "\t|------------------------------|\n",
      "\t  Size ..........: 100\n",
      "\t  Min ...........: 17.909\n",
      "\t  25%  ..........: 19.545\n",
      "\t  50%  ..........: 20.14\n",
      "\t  75%  ..........: 20.918\n",
      "\t  Max ...........: 22.491\n",
      "\t  Mean ..........: 20.19\n",
      "\t  Std Dev .......: 0.976\n",
      "\t  Skewness ......: -0.012\n",
      "\t  Kurtosis ......: -0.466\n",
      "\t|------------------------------|\n",
      "stat=0.994\n",
      "stat=-0.965, p=0.335\n",
      "None\n"
     ]
    }
   ],
   "source": [
    "t = InferenceSingleSample(X, alpha_val)\n",
    "print (t.test_population_kurtosis())"
   ]
  },
  {
   "attachments": {},
   "cell_type": "markdown",
   "metadata": {},
   "source": [
    "### D’Agostino’s K2 Test"
   ]
  },
  {
   "cell_type": "code",
   "execution_count": 8,
   "metadata": {},
   "outputs": [
    {
     "name": "stdout",
     "output_type": "stream",
     "text": [
      "\t|------------------------------|\n",
      "\t  DESCRIPTIVE STATISTICS\n",
      "\t|------------------------------|\n",
      "\t  Size ..........: 100\n",
      "\t  Min ...........: 17.909\n",
      "\t  25%  ..........: 19.545\n",
      "\t  50%  ..........: 20.14\n",
      "\t  75%  ..........: 20.918\n",
      "\t  Max ...........: 22.491\n",
      "\t  Mean ..........: 20.19\n",
      "\t  Std Dev .......: 0.976\n",
      "\t  Skewness ......: -0.012\n",
      "\t  Kurtosis ......: -0.466\n",
      "\t|------------------------------|\n",
      " Test 5a: D’Agostino–Pearson Test of Normality\n",
      "\n",
      "        Test for assessing goodness-of-fit for a normal distribution\n",
      "        \n",
      "        Null hypothesis H0: The sample is derived from a normally distributed population.\n",
      "        Alternative hypothesis H1: The sample is not derived from a normally distributed population.\n",
      "        \n",
      "~D’Agostino–Pearson Test of Normality~\n",
      "\t|------------------------------|\n",
      "\t  DESCRIPTIVE STATISTICS\n",
      "\t|------------------------------|\n",
      "\t  Size ..........: 100\n",
      "\t  Min ...........: 17.909\n",
      "\t  25%  ..........: 19.545\n",
      "\t  50%  ..........: 20.14\n",
      "\t  75%  ..........: 20.918\n",
      "\t  Max ...........: 22.491\n",
      "\t  Mean ..........: 20.19\n",
      "\t  Std Dev .......: 0.976\n",
      "\t  Skewness ......: -0.012\n",
      "\t  Kurtosis ......: -0.466\n",
      "\t|------------------------------|\n",
      "stat=0.934, p=0.627\n",
      "The sample is probably derived from a normally distributed population.\n"
     ]
    }
   ],
   "source": [
    "t = InferenceSingleSample(X, alpha_val)\n",
    "t.get_sample_desciptive_statistics(X)\n",
    "print (t.dagostino_pearson_test_normality.__doc__)\n",
    "stat,p=t.dagostino_pearson_test_normality()\n"
   ]
  },
  {
   "attachments": {},
   "cell_type": "markdown",
   "metadata": {},
   "source": [
    "\n",
    "### Pearson’s Correlation Coefficient"
   ]
  },
  {
   "cell_type": "code",
   "execution_count": 9,
   "metadata": {},
   "outputs": [
    {
     "name": "stdout",
     "output_type": "stream",
     "text": [
      " Test 28: Pearson Product–Moment Correlation Coefficient\n",
      "        \n",
      "        Test for assessing linear relationship between two samples\n",
      "\n",
      "        Null hypothesis H0: the correlation (rho) between the two variables equals 0\n",
      "        Alternative hypothesis H1: the correlation between the two variables equals some value other than 0.\n",
      "        \n",
      "~Pearson Product–Moment Correlation Coefficient~\n",
      "\t|------------------------------|\n",
      "\t  DESCRIPTIVE STATISTICS\n",
      "\t|------------------------------|\n",
      "\t  Size ..........: 100\n",
      "\t  Min ...........: 17.909\n",
      "\t  25%  ..........: 19.545\n",
      "\t  50%  ..........: 20.14\n",
      "\t  75%  ..........: 20.918\n",
      "\t  Max ...........: 22.491\n",
      "\t  Mean ..........: 20.19\n",
      "\t  Std Dev .......: 0.976\n",
      "\t  Skewness ......: -0.012\n",
      "\t  Kurtosis ......: -0.466\n",
      "\t|------------------------------|\n",
      "\t|------------------------------|\n",
      "\t  DESCRIPTIVE STATISTICS\n",
      "\t|------------------------------|\n",
      "\t  Size ..........: 100\n",
      "\t  Min ...........: 7.93\n",
      "\t  25%  ..........: 9.304\n",
      "\t  50%  ..........: 10.008\n",
      "\t  75%  ..........: 10.618\n",
      "\t  Max ...........: 13.071\n",
      "\t  Mean ..........: 9.999\n",
      "\t  Std Dev .......: 0.936\n",
      "\t  Skewness ......: 0.369\n",
      "\t  Kurtosis ......: 0.293\n",
      "\t|------------------------------|\n",
      "stat_true=-0.098, p=0.333\n",
      "The correlation between the two variables equals 0. Samples probably independent\n"
     ]
    },
    {
     "data": {
      "text/plain": [
       "(-0.09789590445579319, 0.33255464192464346)"
      ]
     },
     "execution_count": 9,
     "metadata": {},
     "output_type": "execute_result"
    }
   ],
   "source": [
    "t2 = Correlation(X, Y, alpha_val)\n",
    "print (t2.pearson_correlation_coefficient.__doc__)\n",
    "t2.pearson_correlation_coefficient()"
   ]
  },
  {
   "attachments": {},
   "cell_type": "markdown",
   "metadata": {},
   "source": [
    "### Spearman’s Rank Correlation"
   ]
  },
  {
   "cell_type": "code",
   "execution_count": 10,
   "metadata": {},
   "outputs": [
    {
     "name": "stdout",
     "output_type": "stream",
     "text": [
      " Test 29: Spearman’s Rank-Order Correlation Coefficient\n",
      "\n",
      "        Test for assessing correlation between two samples\n",
      "        \n",
      "        H0 (null hypothesis): correlation (rho) between the two variables equals 0\n",
      "        H1 (alternate hypothesis): the correlation between the two variables equals some value other than 0   \n",
      "        \n",
      "~Spearman’s Rank-Order Correlation Coefficient~\n",
      "\t|------------------------------|\n",
      "\t  DESCRIPTIVE STATISTICS\n",
      "\t|------------------------------|\n",
      "\t  Size ..........: 100\n",
      "\t  Min ...........: 17.909\n",
      "\t  25%  ..........: 19.545\n",
      "\t  50%  ..........: 20.14\n",
      "\t  75%  ..........: 20.918\n",
      "\t  Max ...........: 22.491\n",
      "\t  Mean ..........: 20.19\n",
      "\t  Std Dev .......: 0.976\n",
      "\t  Skewness ......: -0.012\n",
      "\t  Kurtosis ......: -0.466\n",
      "\t|------------------------------|\n",
      "\t|------------------------------|\n",
      "\t  DESCRIPTIVE STATISTICS\n",
      "\t|------------------------------|\n",
      "\t  Size ..........: 100\n",
      "\t  Min ...........: 7.93\n",
      "\t  25%  ..........: 9.304\n",
      "\t  50%  ..........: 10.008\n",
      "\t  75%  ..........: 10.618\n",
      "\t  Max ...........: 13.071\n",
      "\t  Mean ..........: 9.999\n",
      "\t  Std Dev .......: 0.936\n",
      "\t  Skewness ......: 0.369\n",
      "\t  Kurtosis ......: 0.293\n",
      "\t|------------------------------|\n",
      "stat=-0.074, p=0.465\n",
      "The correlation between the two variables equals 0. Samples probably independent\n"
     ]
    },
    {
     "ename": "NameError",
     "evalue": "name 'dist_stats' is not defined",
     "output_type": "error",
     "traceback": [
      "\u001b[0;31m---------------------------------------------------------------------------\u001b[0m",
      "\u001b[0;31mNameError\u001b[0m                                 Traceback (most recent call last)",
      "Cell \u001b[0;32mIn[10], line 3\u001b[0m\n\u001b[1;32m      1\u001b[0m t3 \u001b[39m=\u001b[39m Correlation(X, Y, alpha_val)\n\u001b[1;32m      2\u001b[0m \u001b[39mprint\u001b[39m (t3\u001b[39m.\u001b[39mspearmans_correlation_coefficient\u001b[39m.\u001b[39m\u001b[39m__doc__\u001b[39m)\n\u001b[0;32m----> 3\u001b[0m t3\u001b[39m.\u001b[39mspearmans_correlation_coefficient()\n",
      "File \u001b[0;32m~/Library/CloudStorage/GoogleDrive-zdghaouche@gmail.com/My Drive/data_science/GitHub/statsHypo/doc/../statsHypo/correlation.py:110\u001b[0m, in \u001b[0;36mCorrelation.spearmans_correlation_coefficient\u001b[0;34m(self)\u001b[0m\n\u001b[1;32m    108\u001b[0m \u001b[39melse\u001b[39;00m:\n\u001b[1;32m    109\u001b[0m     \u001b[39mprint\u001b[39m(\u001b[39m'\u001b[39m\u001b[39mThe correlation between the two variables equals some value other than 0. Samples probably dependent. \u001b[39m\u001b[39m'\u001b[39m)\n\u001b[0;32m--> 110\u001b[0m \u001b[39mreturn\u001b[39;00m (stat, p, dist_stats)\n",
      "\u001b[0;31mNameError\u001b[0m: name 'dist_stats' is not defined"
     ]
    }
   ],
   "source": [
    "t3 = Correlation(X, Y, alpha_val)\n",
    "print (t3.spearmans_correlation_coefficient.__doc__)\n",
    "t3.spearmans_correlation_coefficient()\n"
   ]
  },
  {
   "attachments": {},
   "cell_type": "markdown",
   "metadata": {},
   "source": [
    "### Kendall’s Rank Correlation\n",
    "\n",
    "Tests whether two samples have a monotonic relationship.\n",
    "\n",
    "Assumptions\n",
    "\n",
    "+ Observations in each sample are independent and identically distributed (iid).\n",
    "+ Observations in each sample can be ranked.\n",
    "\n",
    "Interpretation\n",
    "\n",
    "+ H0: the two samples are independent.\n",
    "+ H1: there is a dependency between the samples."
   ]
  },
  {
   "cell_type": "code",
   "execution_count": null,
   "metadata": {},
   "outputs": [],
   "source": [
    "t4 = Correlation(X, Y, alpha_val)\n",
    "print (t4.kendall_tau.__doc__)\n",
    "t4.kendall_tau()\n"
   ]
  },
  {
   "attachments": {},
   "cell_type": "markdown",
   "metadata": {},
   "source": [
    "### Chi-Squared Test"
   ]
  },
  {
   "cell_type": "code",
   "execution_count": null,
   "metadata": {},
   "outputs": [],
   "source": [
    "t5 = InferenceTwoIndependentSamples(X, Y, alpha_val)\n",
    "print (t5.chi_square_test_homogeneity.__doc__)\n",
    "t5.chi_square_test_homogeneity()"
   ]
  },
  {
   "attachments": {},
   "cell_type": "markdown",
   "metadata": {},
   "source": [
    "\n",
    "### Augmented Dickey-Fuller Unit Root Test"
   ]
  },
  {
   "cell_type": "code",
   "execution_count": null,
   "metadata": {},
   "outputs": [],
   "source": [
    "t6 = TimeSeries(X, alpha_val)\n",
    "print (t6.augmented_dickey_fuller_test.__doc__)\n",
    "t6.augmented_dickey_fuller_test()"
   ]
  },
  {
   "attachments": {},
   "cell_type": "markdown",
   "metadata": {},
   "source": [
    "\n",
    "### Kwiatkowski-Phillips-Schmidt-Shin\n",
    "\n",
    "Tests whether a time series is trend stationary or not."
   ]
  },
  {
   "cell_type": "code",
   "execution_count": null,
   "metadata": {},
   "outputs": [],
   "source": [
    "t7 = TimeSeries(X, alpha_val)\n",
    "print (t7.kwiatkowski_phillips_schmidt_shin_test.__doc__)\n",
    "t7.kwiatkowski_phillips_schmidt_shin_test()"
   ]
  },
  {
   "attachments": {},
   "cell_type": "markdown",
   "metadata": {},
   "source": [
    "\n",
    "### Student’s t-test"
   ]
  },
  {
   "cell_type": "code",
   "execution_count": null,
   "metadata": {},
   "outputs": [],
   "source": [
    "t8 = InferenceTwoIndependentSamples(X, Y, alpha_val)\n",
    "print (t8.t_test_independent.__doc__)\n",
    "t8.t_test_independent()"
   ]
  },
  {
   "attachments": {},
   "cell_type": "markdown",
   "metadata": {},
   "source": [
    "### Paired Student’s t-test\n",
    "\n",
    "Tests whether the means of two paired samples are significantly different."
   ]
  },
  {
   "cell_type": "code",
   "execution_count": null,
   "metadata": {},
   "outputs": [],
   "source": [
    "t9 = InferenceTwoDependentSamples(X, Y, alpha_val)\n",
    "print (t9.t_test_dependent.__doc__)\n",
    "t9.t_test_dependent()"
   ]
  },
  {
   "attachments": {},
   "cell_type": "markdown",
   "metadata": {},
   "source": [
    "### Analysis of Variance Test (ANOVA)\n",
    "\n",
    "Tests whether the means of two or more independent samples are significantly different."
   ]
  },
  {
   "cell_type": "code",
   "execution_count": null,
   "metadata": {},
   "outputs": [],
   "source": [
    "t10 = InferenceTwoOrMoreIndenpendentSamples(X, Y, Z, alpha=0.05)\n",
    "print (t10.single_factor_anova.__doc__)\n",
    "t10.single_factor_anova()\n"
   ]
  },
  {
   "attachments": {},
   "cell_type": "markdown",
   "metadata": {},
   "source": [
    "\n",
    "### Mann-Whitney U Test\n",
    "\n",
    "Tests whether the distributions of two independent samples are equal or not."
   ]
  },
  {
   "cell_type": "code",
   "execution_count": null,
   "metadata": {},
   "outputs": [],
   "source": [
    "t97=InferenceTwoIndependentSamples(X,Y,alpha=0.05)\n",
    "t97.mann_whitney_utest()\n"
   ]
  },
  {
   "attachments": {},
   "cell_type": "markdown",
   "metadata": {},
   "source": [
    "### Wilcoxon Signed-Rank Test\n",
    "\n",
    "Tests whether the distributions of two paired samples are equal or not."
   ]
  },
  {
   "cell_type": "code",
   "execution_count": null,
   "metadata": {},
   "outputs": [],
   "source": [
    "t98=InferenceTwoDependentSamples(X,Y,alpha=0.05)\n",
    "t98.wilcoxon_matched_pairs_test()\n"
   ]
  },
  {
   "attachments": {},
   "cell_type": "markdown",
   "metadata": {},
   "source": [
    "### Kruskal-Wallis H Test\n",
    "\n",
    "Tests whether the distributions of two or more independent samples are equal or not."
   ]
  },
  {
   "cell_type": "code",
   "execution_count": null,
   "metadata": {},
   "outputs": [],
   "source": [
    "t99=InferenceTwoOrMoreIndenpendentSamples(X,Y,Z,alpha=0.05)\n",
    "t99.kruskal_wallis_oneway_analysis_variance()\n"
   ]
  },
  {
   "attachments": {},
   "cell_type": "markdown",
   "metadata": {},
   "source": [
    "### Friedman Test\n",
    "\n",
    "Tests whether the distributions of two or more paired samples are equal or not."
   ]
  },
  {
   "cell_type": "code",
   "execution_count": null,
   "metadata": {},
   "outputs": [],
   "source": [
    "t100=InferenceTwoOrMoreDependentSamples(X,Y,Z,alpha=0.05)\n",
    "t100.friedman_twoway_analysis_variance()"
   ]
  },
  {
   "attachments": {},
   "cell_type": "markdown",
   "metadata": {},
   "source": [
    "### The Single-Sample t Test"
   ]
  },
  {
   "cell_type": "code",
   "execution_count": null,
   "metadata": {},
   "outputs": [],
   "source": [
    "t101=InferenceSingleSample(X,alpha=0.05, inf_parameters=[0.5])\n",
    "t101.t_test()"
   ]
  },
  {
   "attachments": {},
   "cell_type": "markdown",
   "metadata": {},
   "source": [
    "### Chi-Square Goodness-of-Fit Test "
   ]
  },
  {
   "cell_type": "code",
   "execution_count": null,
   "metadata": {},
   "outputs": [],
   "source": [
    "t102=InferenceSingleSample(X, alpha=0.05, inf_parameters=[X])\n",
    "t102.chi_square_goodness_of_fit_test()"
   ]
  },
  {
   "attachments": {},
   "cell_type": "markdown",
   "metadata": {},
   "source": [
    "### Cramér-von Mises test for goodness of fit."
   ]
  },
  {
   "cell_type": "code",
   "execution_count": null,
   "metadata": {},
   "outputs": [],
   "source": [
    "#t103=InferenceTwoIndependentSamples(X, Y, alpha=0.05)\n",
    "#t103.cramer_von_mises_goodness_of_fit_test()"
   ]
  },
  {
   "attachments": {},
   "cell_type": "markdown",
   "metadata": {},
   "source": [
    "### Cressie-Read power divergence statistic and goodness of fit test"
   ]
  },
  {
   "cell_type": "code",
   "execution_count": null,
   "metadata": {},
   "outputs": [],
   "source": [
    "t104=InferenceSingleSample(X, alpha=0.05, inf_parameters=[X])\n",
    "t104.cressie_read_power_divergence_and_goodness_of_fit_test()"
   ]
  },
  {
   "attachments": {},
   "cell_type": "markdown",
   "metadata": {},
   "source": [
    "### Kolmogorov–Smirnov Goodness-of-fit Test for a Single Sample"
   ]
  },
  {
   "cell_type": "code",
   "execution_count": null,
   "metadata": {},
   "outputs": [],
   "source": [
    "t105=InferenceSingleSample(X, alpha=0.05, inf_parameters=[])\n",
    "t105.kolmogorov_smirnov_goodness_of_fit_test()"
   ]
  }
 ],
 "metadata": {
  "kernelspec": {
   "display_name": "datascience",
   "language": "python",
   "name": "python3"
  },
  "language_info": {
   "codemirror_mode": {
    "name": "ipython",
    "version": 3
   },
   "file_extension": ".py",
   "mimetype": "text/x-python",
   "name": "python",
   "nbconvert_exporter": "python",
   "pygments_lexer": "ipython3",
   "version": "3.11.3"
  },
  "orig_nbformat": 4,
  "vscode": {
   "interpreter": {
    "hash": "d203a7fbe37afbb990fedfc21c321928443618f3d7b991e0237ff71906aa031f"
   }
  }
 },
 "nbformat": 4,
 "nbformat_minor": 2
}
